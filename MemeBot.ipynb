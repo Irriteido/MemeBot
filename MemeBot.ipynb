{
 "cells": [
  {
   "cell_type": "code",
   "execution_count": 3,
   "id": "d2112f20",
   "metadata": {},
   "outputs": [],
   "source": [
    "from chatterbot import ChatBot\n",
    "from chatterbot.trainers import ChatterBotCorpusTrainer\n",
    "from chatterbot.trainers import ListTrainer\n",
    "from chatterbot.comparisons import LevenshteinDistance\n",
    "import pandas as pd\n",
    "import sqlite3"
   ]
  },
  {
   "cell_type": "code",
   "execution_count": 4,
   "id": "d968bf99",
   "metadata": {},
   "outputs": [
    {
     "name": "stderr",
     "output_type": "stream",
     "text": [
      "[nltk_data] Downloading package averaged_perceptron_tagger to\n",
      "[nltk_data]     C:\\Users\\Dale\\AppData\\Roaming\\nltk_data...\n",
      "[nltk_data]   Package averaged_perceptron_tagger is already up-to-\n",
      "[nltk_data]       date!\n",
      "[nltk_data] Downloading package punkt to\n",
      "[nltk_data]     C:\\Users\\Dale\\AppData\\Roaming\\nltk_data...\n",
      "[nltk_data]   Package punkt is already up-to-date!\n",
      "[nltk_data] Downloading package stopwords to\n",
      "[nltk_data]     C:\\Users\\Dale\\AppData\\Roaming\\nltk_data...\n",
      "[nltk_data]   Package stopwords is already up-to-date!\n"
     ]
    },
    {
     "data": {
      "text/plain": [
       "<sqlite3.Connection at 0x1537bfe1a80>"
      ]
     },
     "execution_count": 4,
     "metadata": {},
     "output_type": "execute_result"
    }
   ],
   "source": [
    "MemeBot = ChatBot(\n",
    "    \"MemeBot\",\n",
    "    storage_adapter=\"chatterbot.storage.SQLStorageAdapter\",\n",
    "    database_uri=\"sqlite:///database.sqlite3\",\n",
    "    logic_adapters=[\n",
    "                    #{\n",
    "                     #   \"import_path\": \"chatterbot.logic.BestMatch\",\n",
    "                      #  \"statement_comparison_function\": chatterbot.comparisons.LevenshteinDistance,\n",
    "                       # \"response_selection_method\": chatterbot.response_selection.get_first_response\n",
    "                    #},\n",
    "                    \"chatterbot.logic.BestMatch\",\n",
    "                    \"chatterbot.logic.TimeLogicAdapter\",\n",
    "                    \"chatterbot.logic.MathematicalEvaluation\"\n",
    "                    ]\n",
    "    )\n",
    "dbName = \"database.sqlite3\"\n",
    "\n",
    "def get_database_connection():\n",
    "    con = sqlite3.connect(dbName)\n",
    "    return con\n",
    "\n",
    "\n",
    "trainer = ChatterBotCorpusTrainer(MemeBot)\n",
    "Ltrainer = ListTrainer(MemeBot)\n",
    "\n"
   ]
  },
  {
   "cell_type": "code",
   "execution_count": null,
   "id": "6c74a239",
   "metadata": {},
   "outputs": [],
   "source": [
    "\n",
    "response = MemeBot.get_response(\"MemeBot\")\n",
    "reply = MemeBot.generate_response(response)\n",
    "reply"
   ]
  },
  {
   "cell_type": "code",
   "execution_count": null,
   "id": "5721186b",
   "metadata": {},
   "outputs": [],
   "source": [
    "def tsvtrainer(filename):\n",
    "  test = pd.read_csv(\"C:\\\\Users\\\\Dale\\\\Desktop\\\\db\\\\WikiQACorpus\\\\\"+filename+\".tsv\",sep=\"\\t\")\n",
    "  return test\n",
    "\n",
    "def csvtrainer(filename):\n",
    "  test = pd.read_csv(\"C:\\\\Users\\\\Dale\\\\Desktop\\\\db\\\\\"+filename+\".csv\")\n",
    "  return test"
   ]
  },
  {
   "cell_type": "code",
   "execution_count": null,
   "id": "dd372a71",
   "metadata": {},
   "outputs": [],
   "source": [
    "atext = []\n",
    "qtext=[]\n",
    "clap=[]\n",
    "\n",
    "\n",
    "def addall(magic):\n",
    "    for x in range(len(magic)):\n",
    "        qtext.append(str(magic.iloc[x,[1]]))\n",
    "        atext.append(str(magic.iloc[x,[2]]))\n",
    "    for x in range(len(qtext)):\n",
    "        clap.append([])\n",
    "        clap[x].append(str(qtext[x])+str(atext[x]))\n",
    "        print(clap[x])\n",
    "        Ltrainer.train(clap[x])\n",
    "\n",
    "def csvadd(magic):\n",
    "    for x in range(len(magic)):\n",
    "        qtext.append(str(magic.iloc[x,1]))\n",
    "        print(qtext[x])\n",
    "        Ltrainer.train(qtext[x])"
   ]
  },
  {
   "cell_type": "code",
   "execution_count": null,
   "id": "9a427f54",
   "metadata": {},
   "outputs": [],
   "source": [
    "#trainer.train(\"chatterbot.corpus.english\")\n",
    "\n",
    "#Ltrainer.train([\n",
    " #   \"MemeBot\",\n",
    "  #  \"MemeBot is my name *-*\",\n",
    "   # \"Im MemeBot\",\n",
    "    #\"Im an AI named MemeBot\"\n",
    "#])\n",
    "\n",
    "#magic = tsvtrainer(\"WikiQA-dev\")\n",
    "\n",
    "#test1 = csvtrainer(\"shortjokes\")\n",
    "#test1    \n",
    "    \n",
    "#csvadd(test1)    \n",
    "#addall(magic)"
   ]
  },
  {
   "cell_type": "code",
   "execution_count": null,
   "id": "ba6904cb",
   "metadata": {},
   "outputs": [],
   "source": []
  },
  {
   "cell_type": "code",
   "execution_count": null,
   "id": "21c7d37a",
   "metadata": {},
   "outputs": [],
   "source": []
  },
  {
   "cell_type": "code",
   "execution_count": null,
   "id": "09fd83c1",
   "metadata": {},
   "outputs": [],
   "source": []
  },
  {
   "cell_type": "code",
   "execution_count": null,
   "id": "e31858a6",
   "metadata": {},
   "outputs": [],
   "source": []
  },
  {
   "cell_type": "code",
   "execution_count": null,
   "id": "604adab7",
   "metadata": {},
   "outputs": [],
   "source": []
  },
  {
   "cell_type": "code",
   "execution_count": null,
   "id": "f8fe9d5f",
   "metadata": {},
   "outputs": [],
   "source": []
  },
  {
   "cell_type": "code",
   "execution_count": null,
   "id": "6763eb64",
   "metadata": {},
   "outputs": [],
   "source": []
  },
  {
   "cell_type": "code",
   "execution_count": null,
   "id": "5cbc2085",
   "metadata": {},
   "outputs": [],
   "source": []
  }
 ],
 "metadata": {
  "kernelspec": {
   "display_name": "Python 3 (ipykernel)",
   "language": "python",
   "name": "python3"
  },
  "language_info": {
   "codemirror_mode": {
    "name": "ipython",
    "version": 3
   },
   "file_extension": ".py",
   "mimetype": "text/x-python",
   "name": "python",
   "nbconvert_exporter": "python",
   "pygments_lexer": "ipython3",
   "version": "3.9.7"
  }
 },
 "nbformat": 4,
 "nbformat_minor": 5
}
