{
 "cells": [
  {
   "cell_type": "code",
   "execution_count": 2,
   "id": "d2112f20",
   "metadata": {},
   "outputs": [],
   "source": [
    "from chatterbot import ChatBot\n",
    "import chatterbot.filters\n",
    "from chatterbot.trainers import ChatterBotCorpusTrainer\n",
    "from chatterbot.trainers import ListTrainer\n",
    "import pandas as pd\n",
    "import sqlite3\n",
    "import ipywidgets as widgets\n",
    "from ipywidgets import interact\n",
    "from ipywidgets import GridspecLayout\n",
    "from IPython.display import display, clear_output\n",
    "from ipywidgets import Button, Layout, HBox, VBox, Textarea\n",
    "from chatterbot.response_selection import get_random_response"
   ]
  },
  {
   "cell_type": "code",
   "execution_count": 3,
   "id": "d968bf99",
   "metadata": {},
   "outputs": [
    {
     "name": "stderr",
     "output_type": "stream",
     "text": [
      "[nltk_data] Downloading package averaged_perceptron_tagger to\n",
      "[nltk_data]     C:\\Users\\Dale\\AppData\\Roaming\\nltk_data...\n",
      "[nltk_data]   Package averaged_perceptron_tagger is already up-to-\n",
      "[nltk_data]       date!\n",
      "[nltk_data] Downloading package punkt to\n",
      "[nltk_data]     C:\\Users\\Dale\\AppData\\Roaming\\nltk_data...\n",
      "[nltk_data]   Package punkt is already up-to-date!\n",
      "[nltk_data] Downloading package stopwords to\n",
      "[nltk_data]     C:\\Users\\Dale\\AppData\\Roaming\\nltk_data...\n",
      "[nltk_data]   Package stopwords is already up-to-date!\n"
     ]
    }
   ],
   "source": [
    "MemeBot = ChatBot(\n",
    "    \"MemeBot\",\n",
    "    storage_adapter=\"chatterbot.storage.SQLStorageAdapter\",\n",
    "    database_uri=\"sqlite:///MemeBot.sqlite3\",\n",
    "    filters=[\"chatterbot.filters.RepetitiveResponseFilter\"],\n",
    "    response_selection_method=get_random_response,\n",
    "    logic_adapters=[\n",
    "                    {\n",
    "                        'import_path': 'chatterbot.logic.BestMatch',\n",
    "                        'default_response': 'I am sorry. I am still learning!',\n",
    "                        'maximum_similarity_threshold': 0.80,  \n",
    "                    },\n",
    "                    ]\n",
    "    )\n",
    "trainer = ChatterBotCorpusTrainer(MemeBot)\n",
    "Ltrainer = ListTrainer(MemeBot)"
   ]
  },
  {
   "cell_type": "code",
   "execution_count": 4,
   "id": "6c74a239",
   "metadata": {},
   "outputs": [],
   "source": [
    "def response(message):\n",
    "    response = MemeBot.get_response(message)\n",
    "    return response"
   ]
  },
  {
   "cell_type": "code",
   "execution_count": 9,
   "id": "737f9f2c",
   "metadata": {},
   "outputs": [
    {
     "data": {
      "application/vnd.jupyter.widget-view+json": {
       "model_id": "8b8f87a2a3a54107864183ff6386a7c0",
       "version_major": 2,
       "version_minor": 0
      },
      "text/plain": [
       "Textarea(value='Hi Im MemeBot', disabled=True, layout=Layout(border='solid', height='600px', width='500px'))"
      ]
     },
     "metadata": {},
     "output_type": "display_data"
    }
   ],
   "source": [
    "#GUI for the Bot\n",
    "txtMessage = widgets.Text(\n",
    "    clear_output(),\n",
    "    placeholder = \"Enter Message\",\n",
    "    layout=Layout(border=\"solid\",width=\"300px\",height=\"33px\")\n",
    ")\n",
    "\n",
    "btnSend = widgets.Button(\n",
    "        description=\"Send\",\n",
    "        tooltip='Click to send or Press \"Enter\"',\n",
    "        layout=Layout(border=\"solid\",width=\"200px\",height=\"33px\")\n",
    "    )\n",
    "btnSend.style.button_color = \"#37CBC8\"\n",
    "\n",
    "txtConversation = widgets.Textarea(\n",
    "    value = \"Hi Im MemeBot\",\n",
    "    disabled =True,\n",
    "    layout=Layout(border='solid',width=\"500px\",height=\"600px\")  \n",
    "    \n",
    ")\n",
    "display(txtConversation)"
   ]
  },
  {
   "cell_type": "code",
   "execution_count": 7,
   "id": "bac84ba9",
   "metadata": {},
   "outputs": [],
   "source": [
    "def Conversation(a):\n",
    "    getMessage = txtMessage.value\n",
    "    currentValue = (txtConversation.value)\n",
    "    MemeBotResponse = (response(getMessage))\n",
    "    newValue = txtConversation.value=currentValue+\"\\nMe:\"+getMessage\n",
    "    currentValue2 = (txtConversation.value)\n",
    "    BotReply = txtConversation.value=currentValue2+\"\\nMemeBot:\"+str(MemeBotResponse)\n",
    "    txtMessage.value = \"\"\n",
    "\n",
    "txtMessage.on_submit(Conversation)\n",
    "btnSend.on_click(Conversation)"
   ]
  },
  {
   "cell_type": "code",
   "execution_count": 8,
   "id": "fa3182e9",
   "metadata": {},
   "outputs": [
    {
     "data": {
      "application/vnd.jupyter.widget-view+json": {
       "model_id": "b264ea731e7448e196aa7808775a01e9",
       "version_major": 2,
       "version_minor": 0
      },
      "text/plain": [
       "HBox(children=(Text(value='', layout=Layout(border='solid', height='33px', width='300px'), placeholder='Enter …"
      ]
     },
     "metadata": {},
     "output_type": "display_data"
    }
   ],
   "source": [
    "box= widgets.HBox()\n",
    "box.children=[txtMessage,btnSend]\n",
    "box"
   ]
  }
 ],
 "metadata": {
  "kernelspec": {
   "display_name": "Python 3 (ipykernel)",
   "language": "python",
   "name": "python3"
  },
  "language_info": {
   "codemirror_mode": {
    "name": "ipython",
    "version": 3
   },
   "file_extension": ".py",
   "mimetype": "text/x-python",
   "name": "python",
   "nbconvert_exporter": "python",
   "pygments_lexer": "ipython3",
   "version": "3.9.7"
  }
 },
 "nbformat": 4,
 "nbformat_minor": 5
}
